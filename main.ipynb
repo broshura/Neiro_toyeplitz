{
 "cells": [
  {
   "cell_type": "code",
   "execution_count": 1,
   "metadata": {},
   "outputs": [],
   "source": [
    "import torch\n",
    "from torch import nn, optim\n",
    "import torch.nn.functional as F\n",
    "from torch.utils.data import DataLoader, Dataset\n",
    "\n",
    "from tqdm import tqdm \n",
    "import matplotlib.pyplot as plt\n",
    "from sklearn.metrics import mean_absolute_percentage_error, r2_score"
   ]
  },
  {
   "cell_type": "code",
   "execution_count": 2,
   "metadata": {},
   "outputs": [
    {
     "name": "stdout",
     "output_type": "stream",
     "text": [
      "UNet1d(\n",
      "  (inc): DoubleConv1d(\n",
      "    (double_conv): Sequential(\n",
      "      (0): Conv1d(1, 64, kernel_size=(3,), stride=(1,), padding=(1,))\n",
      "      (1): ReLU(inplace=True)\n",
      "      (2): Conv1d(64, 64, kernel_size=(3,), stride=(1,), padding=(1,))\n",
      "      (3): ReLU(inplace=True)\n",
      "    )\n",
      "  )\n",
      "  (down1): Down1d(\n",
      "    (maxpool_conv): Sequential(\n",
      "      (0): MaxPool1d(kernel_size=2, stride=2, padding=0, dilation=1, ceil_mode=False)\n",
      "      (1): DoubleConv1d(\n",
      "        (double_conv): Sequential(\n",
      "          (0): Conv1d(64, 128, kernel_size=(3,), stride=(1,), padding=(1,))\n",
      "          (1): ReLU(inplace=True)\n",
      "          (2): Conv1d(128, 128, kernel_size=(3,), stride=(1,), padding=(1,))\n",
      "          (3): ReLU(inplace=True)\n",
      "        )\n",
      "      )\n",
      "    )\n",
      "  )\n",
      "  (down2): Down1d(\n",
      "    (maxpool_conv): Sequential(\n",
      "      (0): MaxPool1d(kernel_size=2, stride=2, padding=0, dilation=1, ceil_mode=False)\n",
      "      (1): DoubleConv1d(\n",
      "        (double_conv): Sequential(\n",
      "          (0): Conv1d(128, 256, kernel_size=(3,), stride=(1,), padding=(1,))\n",
      "          (1): ReLU(inplace=True)\n",
      "          (2): Conv1d(256, 256, kernel_size=(3,), stride=(1,), padding=(1,))\n",
      "          (3): ReLU(inplace=True)\n",
      "        )\n",
      "      )\n",
      "    )\n",
      "  )\n",
      "  (down3): Down1d(\n",
      "    (maxpool_conv): Sequential(\n",
      "      (0): MaxPool1d(kernel_size=2, stride=2, padding=0, dilation=1, ceil_mode=False)\n",
      "      (1): DoubleConv1d(\n",
      "        (double_conv): Sequential(\n",
      "          (0): Conv1d(256, 512, kernel_size=(3,), stride=(1,), padding=(1,))\n",
      "          (1): ReLU(inplace=True)\n",
      "          (2): Conv1d(512, 512, kernel_size=(3,), stride=(1,), padding=(1,))\n",
      "          (3): ReLU(inplace=True)\n",
      "        )\n",
      "      )\n",
      "    )\n",
      "  )\n",
      "  (down4): Down1d(\n",
      "    (maxpool_conv): Sequential(\n",
      "      (0): MaxPool1d(kernel_size=2, stride=2, padding=0, dilation=1, ceil_mode=False)\n",
      "      (1): DoubleConv1d(\n",
      "        (double_conv): Sequential(\n",
      "          (0): Conv1d(512, 512, kernel_size=(3,), stride=(1,), padding=(1,))\n",
      "          (1): ReLU(inplace=True)\n",
      "          (2): Conv1d(512, 512, kernel_size=(3,), stride=(1,), padding=(1,))\n",
      "          (3): ReLU(inplace=True)\n",
      "        )\n",
      "      )\n",
      "    )\n",
      "  )\n",
      "  (up1): Up1d(\n",
      "    (up): Upsample(scale_factor=2.0, mode='linear')\n",
      "    (conv): DoubleConv1d(\n",
      "      (double_conv): Sequential(\n",
      "        (0): Conv1d(1024, 256, kernel_size=(3,), stride=(1,), padding=(1,))\n",
      "        (1): ReLU(inplace=True)\n",
      "        (2): Conv1d(256, 256, kernel_size=(3,), stride=(1,), padding=(1,))\n",
      "        (3): ReLU(inplace=True)\n",
      "      )\n",
      "    )\n",
      "  )\n",
      "  (up2): Up1d(\n",
      "    (up): Upsample(scale_factor=2.0, mode='linear')\n",
      "    (conv): DoubleConv1d(\n",
      "      (double_conv): Sequential(\n",
      "        (0): Conv1d(512, 128, kernel_size=(3,), stride=(1,), padding=(1,))\n",
      "        (1): ReLU(inplace=True)\n",
      "        (2): Conv1d(128, 128, kernel_size=(3,), stride=(1,), padding=(1,))\n",
      "        (3): ReLU(inplace=True)\n",
      "      )\n",
      "    )\n",
      "  )\n",
      "  (up3): Up1d(\n",
      "    (up): Upsample(scale_factor=2.0, mode='linear')\n",
      "    (conv): DoubleConv1d(\n",
      "      (double_conv): Sequential(\n",
      "        (0): Conv1d(256, 64, kernel_size=(3,), stride=(1,), padding=(1,))\n",
      "        (1): ReLU(inplace=True)\n",
      "        (2): Conv1d(64, 64, kernel_size=(3,), stride=(1,), padding=(1,))\n",
      "        (3): ReLU(inplace=True)\n",
      "      )\n",
      "    )\n",
      "  )\n",
      "  (up4): Up1d(\n",
      "    (up): Upsample(scale_factor=2.0, mode='linear')\n",
      "    (conv): DoubleConv1d(\n",
      "      (double_conv): Sequential(\n",
      "        (0): Conv1d(128, 64, kernel_size=(3,), stride=(1,), padding=(1,))\n",
      "        (1): ReLU(inplace=True)\n",
      "        (2): Conv1d(64, 64, kernel_size=(3,), stride=(1,), padding=(1,))\n",
      "        (3): ReLU(inplace=True)\n",
      "      )\n",
      "    )\n",
      "  )\n",
      "  (outc): OutConv1d(\n",
      "    (conv): Conv1d(64, 1, kernel_size=(1,), stride=(1,))\n",
      "  )\n",
      ")\n"
     ]
    }
   ],
   "source": [
    "# Создаем классы для каждого блока UNet\n",
    "\n",
    "# Класс для двух последовательных сверток с функцией активации ReLU\n",
    "class DoubleConv1d(nn.Module):\n",
    "    def __init__(self, in_channels, out_channels):\n",
    "        super(DoubleConv1d, self).__init__()\n",
    "        self.double_conv = nn.Sequential(\n",
    "            nn.Conv1d(in_channels, out_channels, kernel_size=3, padding=1),\n",
    "            nn.ReLU(inplace=True),\n",
    "            nn.Conv1d(out_channels, out_channels, kernel_size=3, padding=1),\n",
    "            nn.ReLU(inplace=True)\n",
    "        )\n",
    "\n",
    "    def forward(self, x):\n",
    "        return self.double_conv(x)\n",
    "\n",
    "# Класс для уменьшения размерности входного тензора вдвое\n",
    "class Down1d(nn.Module):\n",
    "    def __init__(self, in_channels, out_channels):\n",
    "        super(Down1d, self).__init__()\n",
    "        self.maxpool_conv = nn.Sequential(\n",
    "            nn.MaxPool1d(2),\n",
    "            DoubleConv1d(in_channels, out_channels)\n",
    "        )\n",
    "\n",
    "    def forward(self, x):\n",
    "        return self.maxpool_conv(x)\n",
    "\n",
    "# Класс для увеличения размерности входного тензора вдвое\n",
    "class Up1d(nn.Module):\n",
    "    def __init__(self, in_channels, out_channels, bilinear=True):\n",
    "        super(Up1d, self).__init__()\n",
    "        if bilinear:\n",
    "            self.up = nn.Upsample(scale_factor=2, mode='linear', align_corners=True)\n",
    "        else:\n",
    "            self.up = nn.ConvTranspose1d(in_channels // 2, in_channels // 2, kernel_size=2, stride=2)\n",
    "\n",
    "        self.conv = DoubleConv1d(in_channels, out_channels)\n",
    "\n",
    "    def forward(self, x1, x2):\n",
    "        x1 = self.up(x1)\n",
    "        diff = x2.size()[2] - x1.size()[2]\n",
    "        x1 = F.pad(x1, [diff // 2, diff - diff // 2])\n",
    "        x = torch.cat([x2, x1], dim=1)\n",
    "        return self.conv(x)\n",
    "\n",
    "# Класс для выходного слоя\n",
    "class OutConv1d(nn.Module):\n",
    "    def __init__(self, in_channels, out_channels):\n",
    "        super(OutConv1d, self).__init__()\n",
    "        self.conv = nn.Conv1d(in_channels, out_channels, kernel_size=1)\n",
    "\n",
    "    def forward(self, x):\n",
    "        return self.conv(x)\n",
    "\n",
    "# Класс для всей сети UNet\n",
    "class UNet1d(nn.Module):\n",
    "    def __init__(self, n_channels, n_classes, bilinear=True):\n",
    "        super(UNet1d, self).__init__()\n",
    "        self.n_channels = n_channels\n",
    "        self.n_classes = n_classes\n",
    "        self.bilinear = bilinear\n",
    "\n",
    "        self.inc = DoubleConv1d(n_channels, 64)\n",
    "        self.down1 = Down1d(64, 128)\n",
    "        self.down2 = Down1d(128, 256)\n",
    "        self.down3 = Down1d(256, 512)\n",
    "        factor = 2 if bilinear else 1\n",
    "        self.down4 = Down1d(512, 1024 // factor)\n",
    "        self.up1 = Up1d(1024, 512 // factor, bilinear)\n",
    "        self.up2 = Up1d(512, 256 // factor, bilinear)\n",
    "        self.up3 = Up1d(256, 128 // factor, bilinear)\n",
    "        self.up4 = Up1d(128, 64, bilinear)\n",
    "        self.outc = OutConv1d(64, n_classes)\n",
    "\n",
    "    def forward(self, x):\n",
    "        x1 = self.inc(x)\n",
    "        x2 = self.down1(x1)\n",
    "        x3 = self.down2(x2)\n",
    "        x4 = self.down3(x3)\n",
    "        x5 = self.down4(x4)\n",
    "        x = self.up1(x5, x4)\n",
    "        x = self.up2(x, x3)\n",
    "        x = self.up3(x, x2)\n",
    "        x = self.up4(x, x1)\n",
    "        logits = self.outc(x)\n",
    "        return logits\n",
    "\n",
    "# Создаем экземпляр модели и выводим ее архитектуру\n",
    "model = UNet1d(n_channels=1, n_classes=1) \n",
    "print(model)"
   ]
  },
  {
   "cell_type": "code",
   "execution_count": 13,
   "metadata": {},
   "outputs": [
    {
     "name": "stderr",
     "output_type": "stream",
     "text": [
      "/var/folders/tz/kxls6d_s14dblprt_kwm0kf80000gn/T/ipykernel_5612/2391554475.py:5: FutureWarning: You are using `torch.load` with `weights_only=False` (the current default value), which uses the default pickle module implicitly. It is possible to construct malicious pickle data which will execute arbitrary code during unpickling (See https://github.com/pytorch/pytorch/blob/main/SECURITY.md#untrusted-models for more details). In a future release, the default value for `weights_only` will be flipped to `True`. This limits the functions that could be executed during unpickling. Arbitrary objects will no longer be allowed to be loaded via this mode unless they are explicitly allowlisted by the user via `torch.serialization.add_safe_globals`. We recommend you start setting `weights_only=True` for any use case where you don't have full control of the loaded file. Please open an issue on GitHub for any issues related to this experimental feature.\n",
      "  DATA = torch.load(filedata)[::10]\n",
      "/var/folders/tz/kxls6d_s14dblprt_kwm0kf80000gn/T/ipykernel_5612/2391554475.py:6: FutureWarning: You are using `torch.load` with `weights_only=False` (the current default value), which uses the default pickle module implicitly. It is possible to construct malicious pickle data which will execute arbitrary code during unpickling (See https://github.com/pytorch/pytorch/blob/main/SECURITY.md#untrusted-models for more details). In a future release, the default value for `weights_only` will be flipped to `True`. This limits the functions that could be executed during unpickling. Arbitrary objects will no longer be allowed to be loaded via this mode unless they are explicitly allowlisted by the user via `torch.serialization.add_safe_globals`. We recommend you start setting `weights_only=True` for any use case where you don't have full control of the loaded file. Please open an issue on GitHub for any issues related to this experimental feature.\n",
      "  TARGETS = torch.load(filetargets)[::10]\n",
      "/var/folders/tz/kxls6d_s14dblprt_kwm0kf80000gn/T/ipykernel_5612/2391554475.py:8: UserWarning: To copy construct from a tensor, it is recommended to use sourceTensor.clone().detach() or sourceTensor.clone().detach().requires_grad_(True), rather than torch.tensor(sourceTensor).\n",
      "  DATA, TARGETS = torch.tensor(DATA).float().unsqueeze(1), torch.tensor(TARGETS).float().unsqueeze(1)\n",
      "100%|██████████| 80/80 [00:07<00:00, 10.31it/s]\n"
     ]
    },
    {
     "name": "stdout",
     "output_type": "stream",
     "text": [
      "Epoch 1/10, Training Loss: 0.00035554474883952024\n",
      "Epoch 1/10, Test Loss: 1.822219101086375e-05\n",
      "Epoch 1/10, Test MAPE: 658112359.57625, Test R²: -2226743740630.091\n"
     ]
    },
    {
     "name": "stderr",
     "output_type": "stream",
     "text": [
      "100%|██████████| 80/80 [00:07<00:00, 10.55it/s]\n"
     ]
    },
    {
     "name": "stdout",
     "output_type": "stream",
     "text": [
      "Epoch 2/10, Training Loss: 1.2457624991668581e-05\n",
      "Epoch 2/10, Test Loss: 7.441244235906197e-06\n",
      "Epoch 2/10, Test MAPE: 1725849513.6321325, Test R²: -15313556554981.566\n"
     ]
    },
    {
     "name": "stderr",
     "output_type": "stream",
     "text": [
      "100%|██████████| 80/80 [00:07<00:00, 11.12it/s]\n"
     ]
    },
    {
     "name": "stdout",
     "output_type": "stream",
     "text": [
      "Epoch 3/10, Training Loss: 9.048211057915979e-06\n",
      "Epoch 3/10, Test Loss: 1.3954907444713172e-06\n",
      "Epoch 3/10, Test MAPE: 720179566.9347539, Test R²: -2666562589786.9004\n"
     ]
    },
    {
     "name": "stderr",
     "output_type": "stream",
     "text": [
      "100%|██████████| 80/80 [00:07<00:00, 10.88it/s]\n"
     ]
    },
    {
     "name": "stdout",
     "output_type": "stream",
     "text": [
      "Epoch 4/10, Training Loss: 5.012788932390322e-07\n",
      "Epoch 4/10, Test Loss: 1.7669401888298353e-07\n",
      "Epoch 4/10, Test MAPE: 209703388.66738203, Test R²: -226089941661.62634\n"
     ]
    },
    {
     "name": "stderr",
     "output_type": "stream",
     "text": [
      "100%|██████████| 80/80 [00:07<00:00, 10.62it/s]\n"
     ]
    },
    {
     "name": "stdout",
     "output_type": "stream",
     "text": [
      "Epoch 5/10, Training Loss: 1.7195662320723671e-07\n",
      "Epoch 5/10, Test Loss: 1.074303877857119e-07\n",
      "Epoch 5/10, Test MAPE: 192327071.87844914, Test R²: -190174036837.85184\n"
     ]
    },
    {
     "name": "stderr",
     "output_type": "stream",
     "text": [
      "100%|██████████| 80/80 [00:07<00:00, 11.02it/s]\n"
     ]
    },
    {
     "name": "stdout",
     "output_type": "stream",
     "text": [
      "Epoch 6/10, Training Loss: 1.2234323043536222e-07\n",
      "Epoch 6/10, Test Loss: 8.319974003079267e-08\n",
      "Epoch 6/10, Test MAPE: 133978908.75533459, Test R²: -92290000942.2988\n"
     ]
    },
    {
     "name": "stderr",
     "output_type": "stream",
     "text": [
      "100%|██████████| 80/80 [00:07<00:00, 11.24it/s]\n"
     ]
    },
    {
     "name": "stdout",
     "output_type": "stream",
     "text": [
      "Epoch 7/10, Training Loss: 1.1040598789646694e-07\n",
      "Epoch 7/10, Test Loss: 8.044425285902434e-08\n",
      "Epoch 7/10, Test MAPE: 306679486.1055826, Test R²: -483548051030.36475\n"
     ]
    },
    {
     "name": "stderr",
     "output_type": "stream",
     "text": [
      "100%|██████████| 80/80 [00:07<00:00, 11.32it/s]\n"
     ]
    },
    {
     "name": "stdout",
     "output_type": "stream",
     "text": [
      "Epoch 8/10, Training Loss: 1.2426093636275227e-07\n",
      "Epoch 8/10, Test Loss: 8.005059957127968e-08\n",
      "Epoch 8/10, Test MAPE: 347151295.3024084, Test R²: -619589704985.7743\n"
     ]
    },
    {
     "name": "stderr",
     "output_type": "stream",
     "text": [
      "100%|██████████| 80/80 [00:07<00:00, 10.84it/s]\n"
     ]
    },
    {
     "name": "stdout",
     "output_type": "stream",
     "text": [
      "Epoch 9/10, Training Loss: 1.044850582831991e-07\n",
      "Epoch 9/10, Test Loss: 7.228197338449149e-08\n",
      "Epoch 9/10, Test MAPE: 89881809.8709065, Test R²: -41535005237.05378\n"
     ]
    },
    {
     "name": "stderr",
     "output_type": "stream",
     "text": [
      "100%|██████████| 80/80 [00:07<00:00, 11.14it/s]\n"
     ]
    },
    {
     "name": "stdout",
     "output_type": "stream",
     "text": [
      "Epoch 10/10, Training Loss: 1.0197148693213976e-07\n",
      "Epoch 10/10, Test Loss: 6.68067164033559e-08\n",
      "Epoch 10/10, Test MAPE: 70661604.81862295, Test R²: -25670697631.227272\n",
      "Обучение завершено\n"
     ]
    }
   ],
   "source": [
    "# Пример класса датасета\n",
    "class ExampleDataset(Dataset):\n",
    "    def __init__(self, filedata, filetargets, if_test=False):\n",
    "        # Загрузка данных\n",
    "        DATA = torch.load(filedata)\n",
    "        TARGETS = torch.load(filetargets)\n",
    "        # Преобразование данных во float\n",
    "        DATA, TARGETS = torch.tensor(DATA).float().unsqueeze(1), torch.tensor(TARGETS).float().unsqueeze(1)\n",
    "        # Выбор 80% данных для обучения или 20% для тестирования\n",
    "        data_n = 0.8 * len(DATA)\n",
    "        if if_test == False:\n",
    "            self.data = DATA[:int(data_n)]\n",
    "            self.targets = TARGETS[:int(data_n)]\n",
    "        else:\n",
    "            self.data = DATA[int(data_n):]\n",
    "            self.targets = TARGETS[int(data_n):]\n",
    "\n",
    "    def __len__(self):\n",
    "        return len(self.data)\n",
    "\n",
    "    def __getitem__(self, idx):\n",
    "        return self.data[idx], self.targets[idx]\n",
    "\n",
    "# Создание датасета и загрузчика данных\n",
    "folder = \"/Users/shuramakarenko/LocalDocs/Workspace/Neiro_toyeplitz/DATA/Matrix1024\"\n",
    "filedata = folder + \"/Samples.pth\"\n",
    "filetargets = folder + \"/Targets.pth\"\n",
    "dataset = ExampleDataset(filedata, filetargets)\n",
    "datatest = ExampleDataset(filedata, filetargets, if_test=True)\n",
    "dataloader = DataLoader(dataset, batch_size=10, shuffle=True)\n",
    "dataloader_test = DataLoader(datatest, batch_size=10, shuffle=True)\n",
    "\n",
    "# Создание модели\n",
    "model = UNet1d(n_channels=1, n_classes=1)\n",
    "\n",
    "# Определение функции потерь и оптимизатора\n",
    "criterion = nn.MSELoss() \n",
    "optimizer = optim.Adam(model.parameters(), lr=0.001)\n",
    "\n",
    "# Цикл обучения\n",
    "num_epochs = 10\n",
    "train_losses = []\n",
    "test_losses = []\n",
    "test_mape = []\n",
    "test_r2 = []\n",
    "\n",
    "for epoch in range(num_epochs):\n",
    "    model.train()\n",
    "    running_loss = 0.0\n",
    "    for inputs, targets in tqdm(dataloader):\n",
    "        optimizer.zero_grad()  # Обнуление градиентов\n",
    "        outputs = model(inputs)  # Прямой проход\n",
    "        loss = criterion(outputs, targets)  # Вычисление потерь\n",
    "        loss.backward()  # Обратный проход\n",
    "        optimizer.step()  # Обновление параметров\n",
    "        running_loss += loss.item()\n",
    "    \n",
    "    train_loss = running_loss / len(dataloader)\n",
    "    train_losses.append(train_loss)\n",
    "    print(f'Epoch {epoch+1}/{num_epochs}, Training Loss: {train_loss}')\n",
    "\n",
    "    # Оценка на тестовой выборке\n",
    "    model.eval()  # Перевод модели в режим оценки\n",
    "    test_loss = 0.0\n",
    "    all_targets = []\n",
    "    all_outputs = []\n",
    "    with torch.no_grad():  # Отключение вычисления градиентов\n",
    "        for inputs, targets in dataloader_test:\n",
    "            outputs = model(inputs)\n",
    "            loss = criterion(outputs, targets)\n",
    "            test_loss += loss.item()\n",
    "            all_targets.extend(targets.squeeze(1).numpy())\n",
    "            all_outputs.extend(outputs.squeeze(1).numpy())\n",
    "    \n",
    "    test_loss /= len(dataloader_test)\n",
    "    test_losses.append(test_loss)\n",
    "    print(f'Epoch {epoch+1}/{num_epochs}, Test Loss: {test_loss}')\n",
    "\n",
    "    # Вычисление MAPE и R²\n",
    "    print\n",
    "    mape = mean_absolute_percentage_error(all_targets, all_outputs)\n",
    "    r2 = r2_score(all_targets, all_outputs)\n",
    "    test_mape.append(mape)\n",
    "    test_r2.append(r2)\n",
    "    print(f'Epoch {epoch+1}/{num_epochs}, Test MAPE: {mape}, Test R²: {r2}')\n",
    "\n",
    "print(\"Обучение завершено\")\n"
   ]
  },
  {
   "cell_type": "code",
   "execution_count": 16,
   "metadata": {},
   "outputs": [
    {
     "name": "stdout",
     "output_type": "stream",
     "text": [
      "Inputs: [-7.6258399e-02 -5.3446288e-03 -5.3851597e-04 -1.5426104e-04 -6.4336549e-05 -3.2767777e-05 -1.8909101e-05 -1.1887477e-05 -7.9548845e-06 -5.5827436e-06]\n",
      "Targets: [-7.6258399e-02 -5.3394097e-03 -5.3746416e-04 -1.5380910e-04 -6.4085238e-05 -3.2607779e-05 -1.8798306e-05 -1.1806214e-05 -7.8927369e-06 -5.5336764e-06]\n",
      "Outputs: [-7.5812869e-02 -6.3955188e-03 -5.6810677e-04 -4.1089207e-04 -4.4620782e-04 -1.4930218e-04 -1.7210841e-05 -9.1418624e-06 -1.5012920e-05 -1.6845763e-05]\n"
     ]
    }
   ],
   "source": [
    "model.eval()\n",
    "import numpy as np\n",
    "np.set_printoptions(linewidth=np.inf)\n",
    "with torch.no_grad():\n",
    "    for inputs, targets in dataloader_test:\n",
    "        outputs = model(inputs)\n",
    "        print(f'Inputs: {inputs.squeeze(1)[0].numpy()[:10]}')\n",
    "        print(f'Targets: {targets.squeeze(1)[0].numpy()[:10]}')\n",
    "        print(f'Outputs: {outputs.squeeze(1)[0].numpy()[:10]}')\n",
    "        break\n",
    "\n"
   ]
  },
  {
   "cell_type": "code",
   "execution_count": 15,
   "metadata": {},
   "outputs": [
    {
     "data": {
      "image/png": "[encoded data removed]",
      "text/plain": [
       "<Figure size 1500x500 with 3 Axes>"
      ]
     },
     "metadata": {},
     "output_type": "display_data"
    }
   ],
   "source": [
    "# Построение графиков\n",
    "plt.figure(figsize=(15, 5))\n",
    "\n",
    "plt.subplot(1, 3, 1)\n",
    "plt.plot(range(1, num_epochs + 1), train_losses, label='Training Loss', marker='o')\n",
    "plt.plot(range(1, num_epochs + 1), test_losses, label='Test Loss', marker='o')\n",
    "plt.xlabel('Epoch')\n",
    "plt.ylabel('Loss')\n",
    "plt.title('Training and Test Loss')\n",
    "plt.yscale('log')\n",
    "plt.legend()\n",
    "\n",
    "plt.subplot(1, 3, 2)\n",
    "plt.plot(range(1, num_epochs + 1), test_mape, label='Test MAPE', marker='o')\n",
    "plt.xlabel('Epoch')\n",
    "plt.ylabel('MAPE')\n",
    "plt.title('Test MAPE')\n",
    "plt.legend()\n",
    "\n",
    "plt.subplot(1, 3, 3)\n",
    "plt.plot(range(1, num_epochs + 1), test_r2, label='Test R²', marker='o')\n",
    "plt.xlabel('Epoch')\n",
    "plt.ylabel('R²')\n",
    "plt.title('Test R²')\n",
    "plt.legend()\n",
    "\n",
    "plt.tight_layout()\n",
    "plt.show()"
   ]
  }
 ],
 "metadata": {
  "kernelspec": {
   "display_name": "sirius_venv",
   "language": "python",
   "name": "python3"
  },
  "language_info": {
   "codemirror_mode": {
    "name": "ipython",
    "version": 3
   },
   "file_extension": ".py",
   "mimetype": "text/x-python",
   "name": "python",
   "nbconvert_exporter": "python",
   "pygments_lexer": "ipython3",
   "version": "3.12.3"
  }
 },
 "nbformat": 4,
 "nbformat_minor": 2
}
