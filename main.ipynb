{
 "cells": [
  {
   "cell_type": "code",
   "execution_count": 13,
   "metadata": {},
   "outputs": [],
   "source": [
    "import torch\n",
    "import numpy as np\n",
    "from torch import nn, optim\n",
    "import torch.nn.functional as F\n",
    "from torch.utils.data import DataLoader, Dataset\n",
    "\n",
    "from tqdm import tqdm \n",
    "import matplotlib.pyplot as plt"
   ]
  },
  {
   "cell_type": "code",
   "execution_count": 14,
   "metadata": {},
   "outputs": [],
   "source": [
    "def generate_dft_matrix(N):\n",
    "    n = torch.arange(N)\n",
    "    k = n.view(N, 1)\n",
    "    omega = torch.exp(-2j * torch.pi * k * n / N).real.to(torch.float32)\n",
    "    return omega\n"
   ]
  },
  {
   "cell_type": "code",
   "execution_count": 15,
   "metadata": {},
   "outputs": [
    {
     "name": "stdout",
     "output_type": "stream",
     "text": [
      "UNet1d(\n",
      "  (inc): DoubleConv1d(\n",
      "    (double_conv): Sequential(\n",
      "      (0): Conv1d(1, 64, kernel_size=(3,), stride=(1,), padding=(1,))\n",
      "      (1): ReLU(inplace=True)\n",
      "      (2): Conv1d(64, 64, kernel_size=(3,), stride=(1,), padding=(1,))\n",
      "      (3): ReLU(inplace=True)\n",
      "    )\n",
      "  )\n",
      "  (down1): Down1d(\n",
      "    (maxpool_conv): Sequential(\n",
      "      (0): MaxPool1d(kernel_size=2, stride=2, padding=0, dilation=1, ceil_mode=False)\n",
      "      (1): DoubleConv1d(\n",
      "        (double_conv): Sequential(\n",
      "          (0): Conv1d(64, 128, kernel_size=(3,), stride=(1,), padding=(1,))\n",
      "          (1): ReLU(inplace=True)\n",
      "          (2): Conv1d(128, 128, kernel_size=(3,), stride=(1,), padding=(1,))\n",
      "          (3): ReLU(inplace=True)\n",
      "        )\n",
      "      )\n",
      "    )\n",
      "  )\n",
      "  (down2): Down1d(\n",
      "    (maxpool_conv): Sequential(\n",
      "      (0): MaxPool1d(kernel_size=2, stride=2, padding=0, dilation=1, ceil_mode=False)\n",
      "      (1): DoubleConv1d(\n",
      "        (double_conv): Sequential(\n",
      "          (0): Conv1d(128, 256, kernel_size=(3,), stride=(1,), padding=(1,))\n",
      "          (1): ReLU(inplace=True)\n",
      "          (2): Conv1d(256, 256, kernel_size=(3,), stride=(1,), padding=(1,))\n",
      "          (3): ReLU(inplace=True)\n",
      "        )\n",
      "      )\n",
      "    )\n",
      "  )\n",
      "  (down3): Down1d(\n",
      "    (maxpool_conv): Sequential(\n",
      "      (0): MaxPool1d(kernel_size=2, stride=2, padding=0, dilation=1, ceil_mode=False)\n",
      "      (1): DoubleConv1d(\n",
      "        (double_conv): Sequential(\n",
      "          (0): Conv1d(256, 512, kernel_size=(3,), stride=(1,), padding=(1,))\n",
      "          (1): ReLU(inplace=True)\n",
      "          (2): Conv1d(512, 512, kernel_size=(3,), stride=(1,), padding=(1,))\n",
      "          (3): ReLU(inplace=True)\n",
      "        )\n",
      "      )\n",
      "    )\n",
      "  )\n",
      "  (down4): Down1d(\n",
      "    (maxpool_conv): Sequential(\n",
      "      (0): MaxPool1d(kernel_size=2, stride=2, padding=0, dilation=1, ceil_mode=False)\n",
      "      (1): DoubleConv1d(\n",
      "        (double_conv): Sequential(\n",
      "          (0): Conv1d(512, 512, kernel_size=(3,), stride=(1,), padding=(1,))\n",
      "          (1): ReLU(inplace=True)\n",
      "          (2): Conv1d(512, 512, kernel_size=(3,), stride=(1,), padding=(1,))\n",
      "          (3): ReLU(inplace=True)\n",
      "        )\n",
      "      )\n",
      "    )\n",
      "  )\n",
      "  (up1): Up1d(\n",
      "    (up): Upsample(scale_factor=2.0, mode='linear')\n",
      "    (conv): DoubleConv1d(\n",
      "      (double_conv): Sequential(\n",
      "        (0): Conv1d(1024, 256, kernel_size=(3,), stride=(1,), padding=(1,))\n",
      "        (1): ReLU(inplace=True)\n",
      "        (2): Conv1d(256, 256, kernel_size=(3,), stride=(1,), padding=(1,))\n",
      "        (3): ReLU(inplace=True)\n",
      "      )\n",
      "    )\n",
      "  )\n",
      "  (up2): Up1d(\n",
      "    (up): Upsample(scale_factor=2.0, mode='linear')\n",
      "    (conv): DoubleConv1d(\n",
      "      (double_conv): Sequential(\n",
      "        (0): Conv1d(512, 128, kernel_size=(3,), stride=(1,), padding=(1,))\n",
      "        (1): ReLU(inplace=True)\n",
      "        (2): Conv1d(128, 128, kernel_size=(3,), stride=(1,), padding=(1,))\n",
      "        (3): ReLU(inplace=True)\n",
      "      )\n",
      "    )\n",
      "  )\n",
      "  (up3): Up1d(\n",
      "    (up): Upsample(scale_factor=2.0, mode='linear')\n",
      "    (conv): DoubleConv1d(\n",
      "      (double_conv): Sequential(\n",
      "        (0): Conv1d(256, 64, kernel_size=(3,), stride=(1,), padding=(1,))\n",
      "        (1): ReLU(inplace=True)\n",
      "        (2): Conv1d(64, 64, kernel_size=(3,), stride=(1,), padding=(1,))\n",
      "        (3): ReLU(inplace=True)\n",
      "      )\n",
      "    )\n",
      "  )\n",
      "  (up4): Up1d(\n",
      "    (up): Upsample(scale_factor=2.0, mode='linear')\n",
      "    (conv): DoubleConv1d(\n",
      "      (double_conv): Sequential(\n",
      "        (0): Conv1d(128, 64, kernel_size=(3,), stride=(1,), padding=(1,))\n",
      "        (1): ReLU(inplace=True)\n",
      "        (2): Conv1d(64, 64, kernel_size=(3,), stride=(1,), padding=(1,))\n",
      "        (3): ReLU(inplace=True)\n",
      "      )\n",
      "    )\n",
      "  )\n",
      "  (outc): OutConv1d(\n",
      "    (conv): Conv1d(64, 1, kernel_size=(1,), stride=(1,))\n",
      "  )\n",
      ")\n"
     ]
    }
   ],
   "source": [
    "# Создаем классы для каждого блока UNet\n",
    "\n",
    "# Класс для двух последовательных сверток с функцией активации ReLU\n",
    "device = torch.device('mps' if torch.backends.mps.is_available() else 'cpu')\n",
    "DFT = generate_dft_matrix(1024).to(device)\n",
    "class DoubleConv1d(nn.Module):\n",
    "    def __init__(self, in_channels, out_channels):\n",
    "        super(DoubleConv1d, self).__init__()\n",
    "        self.double_conv = nn.Sequential(\n",
    "            nn.Conv1d(in_channels, out_channels, kernel_size=3, padding=1),\n",
    "            nn.ReLU(inplace=True),\n",
    "            nn.Conv1d(out_channels, out_channels, kernel_size=3, padding=1),\n",
    "            nn.ReLU(inplace=True)\n",
    "        )\n",
    "\n",
    "    def forward(self, x):\n",
    "        return self.double_conv(x)\n",
    "\n",
    "# Класс для уменьшения размерности входного тензора вдвое\n",
    "class Down1d(nn.Module):\n",
    "    def __init__(self, in_channels, out_channels):\n",
    "        super(Down1d, self).__init__()\n",
    "        self.maxpool_conv = nn.Sequential(\n",
    "            nn.MaxPool1d(2),\n",
    "            DoubleConv1d(in_channels, out_channels)\n",
    "        )\n",
    "\n",
    "    def forward(self, x):\n",
    "        return self.maxpool_conv(x)\n",
    "\n",
    "# Класс для увеличения размерности входного тензора вдвое\n",
    "class Up1d(nn.Module):\n",
    "    def __init__(self, in_channels, out_channels, bilinear=True):\n",
    "        super(Up1d, self).__init__()\n",
    "        if bilinear:\n",
    "            self.up = nn.Upsample(scale_factor=2, mode='linear', align_corners=True)\n",
    "        else:\n",
    "            self.up = nn.ConvTranspose1d(in_channels // 2, in_channels // 2, kernel_size=2, stride=2)\n",
    "\n",
    "        self.conv = DoubleConv1d(in_channels, out_channels)\n",
    "\n",
    "    def forward(self, x1, x2):\n",
    "        x1 = self.up(x1)\n",
    "        diff = x2.size()[2] - x1.size()[2]\n",
    "        x1 = F.pad(x1, [diff // 2, diff - diff // 2])\n",
    "        x = torch.cat([x2, x1], dim=1)\n",
    "        return self.conv(x)\n",
    "\n",
    "# Класс для выходного слоя\n",
    "class OutConv1d(nn.Module):\n",
    "    def __init__(self, in_channels, out_channels):\n",
    "        super(OutConv1d, self).__init__()\n",
    "        self.conv = nn.Conv1d(in_channels, out_channels, kernel_size=1)\n",
    "\n",
    "    def forward(self, x):\n",
    "        return self.conv(x)\n",
    "\n",
    "# Класс для всей сети UNet\n",
    "class UNet1d(nn.Module):\n",
    "    def __init__(self, n_channels, n_classes, bilinear=True):\n",
    "        super(UNet1d, self).__init__()\n",
    "        self.n_channels = n_channels\n",
    "        self.n_classes = n_classes\n",
    "        self.bilinear = bilinear\n",
    "\n",
    "        self.inc = DoubleConv1d(n_channels, 64)\n",
    "        self.down1 = Down1d(64, 128)\n",
    "        self.down2 = Down1d(128, 256)\n",
    "        self.down3 = Down1d(256, 512)\n",
    "        factor = 2 if bilinear else 1\n",
    "        self.down4 = Down1d(512, 1024 // factor)\n",
    "        self.up1 = Up1d(1024, 512 // factor, bilinear)\n",
    "        self.up2 = Up1d(512, 256 // factor, bilinear)\n",
    "        self.up3 = Up1d(256, 128 // factor, bilinear)\n",
    "        self.up4 = Up1d(128, 64, bilinear)\n",
    "        self.outc = OutConv1d(64, n_classes)\n",
    "\n",
    "    def forward(self, x):\n",
    "        x = torch.fft.rfft(x, dim=2).real\n",
    "        \n",
    "        x1 = self.inc(x)\n",
    "        x2 = self.down1(x1)\n",
    "        x3 = self.down2(x2)\n",
    "        x4 = self.down3(x3)\n",
    "        x5 = self.down4(x4)\n",
    "        x = self.up1(x5, x4)\n",
    "        x = self.up2(x, x3)\n",
    "        x = self.up3(x, x2)\n",
    "        x = self.up4(x, x1)\n",
    "        logits = self.outc(x)\n",
    "        \n",
    "        logits = torch.fft.irfft(logits, dim=2).real\n",
    "        \n",
    "        return logits\n",
    "\n",
    "# Создаем экземпляр модели и выводим ее архитектуру\n",
    "model = UNet1d(n_channels=1, n_classes=1) \n",
    "print(model)"
   ]
  },
  {
   "cell_type": "code",
   "execution_count": 16,
   "metadata": {},
   "outputs": [],
   "source": [
    "def circ_mul(C, x):\n",
    "    \"\"\"\n",
    "    Умножение циркулянтной матрицы C на вектор x с использованием FFT.\n",
    "    \n",
    "    C: Циркулянтная матрица (представлена первым столбцом)\n",
    "    x: Вектор для умножения\n",
    "    \"\"\"\n",
    "    # Выполняем умножение с использованием FFT\n",
    "    result = torch.fft.ifft(torch.fft.fft(C) * torch.fft.fft(x))\n",
    "    \n",
    "    return result\n",
    "\n",
    "def sim_toeplitz_mul(A, x):\n",
    "    \"\"\"\n",
    "    Умножение симметричной матрицы A на вектор x с использованием FFT.\n",
    "    \n",
    "    A: Матрица (представлена первой строкой)\n",
    "    x: Вектор для умножения\n",
    "    \"\"\"\n",
    "    # Преобразуем симметричную матрицу в циркулянтную\n",
    "    C = torch.cat((A, A[1:].flip(0)), dim=0)\n",
    "    x_c = torch.cat((x, torch.zeros(x.shape[-1]-1)), dim=0)\n",
    "    print(A.flip(0))\n",
    "    # Выполняем умножение с использованием FFT\n",
    "    result = circ_mul(C, x_c)\n",
    "    \n",
    "    return result[:x.size(0)]\n",
    "\n",
    "\n",
    "class SpecRadLoss(nn.Module):\n",
    "\n",
    "    # using rho(A) = lim_n sup ||x|| = 1 || A^n x ||^1/n\n",
    "\n",
    "    def __init__(self, n=10, n_samples=100):\n",
    "\n",
    "        super().__init__()\n",
    "        self.n = n\n",
    "        self.n_samples = n_samples\n",
    "\n",
    "    def forward(self, x, circ):\n",
    "\n",
    "        # x shape: (N, 1, L)\n",
    "        length = x.shape[-1]\n",
    "\n",
    "        sphere_points = torch.randn((length, self.n_samples))\n",
    "        sphere_points /= torch.norm(sphere_points, dim=0)\n",
    "        sphere_points = sphere_points.repeat(x.shape[0], 1, 1)\n",
    "\n",
    "        # sphere_points shape: (L, 1, n_samples)\n",
    "\n",
    "        for i in range(self.n):\n",
    "\n",
    "            sphere_points = sphere_points - sim_toeplitz_mul(x, circ_mul(circ, sphere_points))\n",
    "\n",
    "        vals = torch.pow(torch.max(torch.norm(sphere_points, dim=1), dim=1)[0], 1/self.n)\n",
    "        \n",
    "        return torch.mean(vals)\n"
   ]
  },
  {
   "cell_type": "code",
   "execution_count": 17,
   "metadata": {},
   "outputs": [
    {
     "name": "stdout",
     "output_type": "stream",
     "text": [
      "Результат умножения циркулянтной матрицы на вектор:\n",
      "tensor([13.+0.j, 13.+0.j, 10.+0.j])\n",
      "tensor([3., 2., 1.])\n",
      "Результат умножения симметричной матрицы на вектор:\n",
      "tensor([14.+0.j, 10.+0.j, 10.+0.j])\n"
     ]
    }
   ],
   "source": [
    "# Пример циркулянтной матрицы и вектора\n",
    "C = torch.tensor([1, 2, 3], dtype=torch.float32)\n",
    "x = torch.tensor([1, 2, 3], dtype=torch.float32)\n",
    "\n",
    "# Умножение циркулянтной матрицы на вектор\n",
    "result_circ = circ_mul(C, x)\n",
    "print(\"Результат умножения циркулянтной матрицы на вектор:\")\n",
    "print(result_circ)\n",
    "\n",
    "# Пример симметричной матрицы и вектора\n",
    "A = torch.tensor([1, 2, 3], dtype=torch.float32)\n",
    "\n",
    "# Умножение симметричной матрицы на вектор\n",
    "result_toeplitz = sim_toeplitz_mul(A, x)\n",
    "print(\"Результат умножения симметричной матрицы на вектор:\")\n",
    "print(result_toeplitz)"
   ]
  },
  {
   "cell_type": "code",
   "execution_count": 18,
   "metadata": {},
   "outputs": [
    {
     "name": "stdout",
     "output_type": "stream",
     "text": [
      "torch.Size([10000, 1, 1024])\n",
      "torch.Size([10000, 1, 1024])\n"
     ]
    },
    {
     "name": "stderr",
     "output_type": "stream",
     "text": [
      "100%|██████████| 63/63 [00:09<00:00,  6.39it/s]\n"
     ]
    },
    {
     "name": "stdout",
     "output_type": "stream",
     "text": [
      "Epoch 1/10, Training Loss: 1.2410252190694871e-05\n",
      "Epoch 1/10, Test Loss: 3.2757451293718987e-06\n",
      "Epoch 1/10, Test relative error: 0.3124808371067047\n"
     ]
    },
    {
     "name": "stderr",
     "output_type": "stream",
     "text": [
      "100%|██████████| 63/63 [00:09<00:00,  6.73it/s]\n"
     ]
    },
    {
     "name": "stdout",
     "output_type": "stream",
     "text": [
      "Epoch 2/10, Training Loss: 8.606335134641446e-07\n",
      "Epoch 2/10, Test Loss: 1.76408091245861e-07\n",
      "Epoch 2/10, Test relative error: 0.12332334369421005\n"
     ]
    },
    {
     "name": "stderr",
     "output_type": "stream",
     "text": [
      "100%|██████████| 63/63 [00:09<00:00,  6.66it/s]\n"
     ]
    },
    {
     "name": "stdout",
     "output_type": "stream",
     "text": [
      "Epoch 3/10, Training Loss: 1.3559612500196794e-07\n",
      "Epoch 3/10, Test Loss: 8.051547584209118e-08\n",
      "Epoch 3/10, Test relative error: 0.09582076966762543\n"
     ]
    },
    {
     "name": "stderr",
     "output_type": "stream",
     "text": [
      "100%|██████████| 63/63 [00:09<00:00,  6.48it/s]\n"
     ]
    },
    {
     "name": "stdout",
     "output_type": "stream",
     "text": [
      "Epoch 4/10, Training Loss: 8.321451030186591e-08\n",
      "Epoch 4/10, Test Loss: 6.803362917473521e-08\n",
      "Epoch 4/10, Test relative error: 0.08767750859260559\n"
     ]
    },
    {
     "name": "stderr",
     "output_type": "stream",
     "text": [
      "100%|██████████| 63/63 [00:10<00:00,  6.29it/s]\n"
     ]
    },
    {
     "name": "stdout",
     "output_type": "stream",
     "text": [
      "Epoch 5/10, Training Loss: 7.236503950566874e-08\n",
      "Epoch 5/10, Test Loss: 6.50686644565468e-08\n",
      "Epoch 5/10, Test relative error: 0.09109073877334595\n"
     ]
    },
    {
     "name": "stderr",
     "output_type": "stream",
     "text": [
      "100%|██████████| 63/63 [00:10<00:00,  6.19it/s]\n"
     ]
    },
    {
     "name": "stdout",
     "output_type": "stream",
     "text": [
      "Epoch 6/10, Training Loss: 6.822593661807347e-08\n",
      "Epoch 6/10, Test Loss: 6.36072734483406e-08\n",
      "Epoch 6/10, Test relative error: 0.08593959361314774\n"
     ]
    },
    {
     "name": "stderr",
     "output_type": "stream",
     "text": [
      "100%|██████████| 63/63 [00:09<00:00,  6.68it/s]\n"
     ]
    },
    {
     "name": "stdout",
     "output_type": "stream",
     "text": [
      "Epoch 7/10, Training Loss: 6.62631699070076e-08\n",
      "Epoch 7/10, Test Loss: 6.244351724582486e-08\n",
      "Epoch 7/10, Test relative error: 0.08292596787214279\n"
     ]
    },
    {
     "name": "stderr",
     "output_type": "stream",
     "text": [
      "100%|██████████| 63/63 [00:09<00:00,  6.67it/s]\n"
     ]
    },
    {
     "name": "stdout",
     "output_type": "stream",
     "text": [
      "Epoch 8/10, Training Loss: 6.503916079424694e-08\n",
      "Epoch 8/10, Test Loss: 6.355624426745976e-08\n",
      "Epoch 8/10, Test relative error: 0.08188541978597641\n"
     ]
    },
    {
     "name": "stderr",
     "output_type": "stream",
     "text": [
      "100%|██████████| 63/63 [00:09<00:00,  6.69it/s]\n"
     ]
    },
    {
     "name": "stdout",
     "output_type": "stream",
     "text": [
      "Epoch 9/10, Training Loss: 6.40307501412064e-08\n",
      "Epoch 9/10, Test Loss: 6.080890435633535e-08\n",
      "Epoch 9/10, Test relative error: 0.081741563975811\n"
     ]
    },
    {
     "name": "stderr",
     "output_type": "stream",
     "text": [
      "100%|██████████| 63/63 [00:09<00:00,  6.70it/s]\n"
     ]
    },
    {
     "name": "stdout",
     "output_type": "stream",
     "text": [
      "Epoch 10/10, Training Loss: 6.279789939555254e-08\n",
      "Epoch 10/10, Test Loss: 5.986835027727011e-08\n",
      "Epoch 10/10, Test relative error: 0.07883729785680771\n",
      "Обучение завершено\n"
     ]
    }
   ],
   "source": [
    "# Пример класса датасета\n",
    "\n",
    "class ExampleDataset(Dataset):\n",
    "    def __init__(self, filedata, filetargets, if_test=False):\n",
    "        # Загрузка данных\n",
    "        DATA = torch.load(filedata, weights_only=True).to(device).unsqueeze(1).imag\n",
    "        TARGETS = torch.load(filetargets, weights_only=True).to(device).unsqueeze(1).imag\n",
    "        \n",
    "        # Выбор 80% данных для обучения или 20% для тестирования\n",
    "        data_n = 0.8 * len(DATA)\n",
    "        if if_test == False:\n",
    "            self.data = DATA[:int(data_n)]\n",
    "            self.targets = TARGETS[:int(data_n)]\n",
    "        else:\n",
    "            self.data = DATA[int(data_n):]\n",
    "            self.targets = TARGETS[int(data_n):]\n",
    "\n",
    "    def __len__(self):\n",
    "        return len(self.data)\n",
    "\n",
    "    def __getitem__(self, idx):\n",
    "        return self.data[idx], self.targets[idx]\n",
    "\n",
    "\n",
    "# Создание датасета и загрузчика данных\n",
    "folder = \"/Users/shuramakarenko/LocalDocs/Workspace/Neiro_toyeplitz/DATA/Matrix1024\"\n",
    "filedata = folder + \"/Samples.pth\"\n",
    "filetargets = folder + \"/Targets.pth\"\n",
    "dataset = ExampleDataset(filedata, filetargets)\n",
    "datatest = ExampleDataset(filedata, filetargets, if_test=True)\n",
    "dataloader = DataLoader(dataset, batch_size=128, shuffle=True)\n",
    "dataloader_test = DataLoader(datatest, batch_size=128, shuffle=True)\n",
    "\n",
    "# Создание модели\n",
    "model = UNet1d(n_channels=1, n_classes=1).to(device)\n",
    "\n",
    "# Определение функции потерь и оптимизатора\n",
    "criterion = nn.MSELoss() \n",
    "optimizer = optim.Adam(model.parameters(), lr=0.0001)\n",
    "\n",
    "# Цикл обучения\n",
    "num_epochs = 10\n",
    "train_losses = []\n",
    "test_losses = []\n",
    "test_relative_errors = []\n",
    "\n",
    "for epoch in range(num_epochs):\n",
    "    model.train()\n",
    "    running_loss = 0.0\n",
    "    for inputs, targets in tqdm(dataloader):\n",
    "        optimizer.zero_grad()                   # Обнуление градиентов\n",
    "        outputs = model(inputs)                 # Прямой проход\n",
    "        loss = criterion(outputs, targets)      # Вычисление потерь\n",
    "        loss.backward()                         # Обратный проход\n",
    "        optimizer.step()                        # Обновление параметров\n",
    "        running_loss += loss.item()\n",
    "    \n",
    "    train_loss = running_loss / len(dataloader)\n",
    "    train_losses.append(train_loss)\n",
    "    print(f'Epoch {epoch+1}/{num_epochs}, Training Loss: {train_loss}')\n",
    "\n",
    "    # Оценка на тестовой выборке\n",
    "    model.eval()  # Перевод модели в режим оценки\n",
    "    test_loss = 0.0\n",
    "    all_targets = []\n",
    "    all_outputs = []\n",
    "    with torch.no_grad():  # Отключение вычисления градиентов\n",
    "        for inputs, targets in dataloader_test:\n",
    "            outputs = model(inputs)\n",
    "            loss = criterion(outputs, targets)\n",
    "            test_loss += loss.item()\n",
    "            all_targets.extend(targets.squeeze(1).cpu().numpy())\n",
    "            all_outputs.extend(outputs.squeeze(1).cpu().numpy())\n",
    "    test_loss /= len(dataloader_test)\n",
    "    test_losses.append(test_loss)\n",
    "    print(f'Epoch {epoch+1}/{num_epochs}, Test Loss: {test_loss}')\n",
    "\n",
    "    # Оценка качества модели\n",
    "    all_targets = np.array(all_targets)\n",
    "    all_outputs = np.array(all_outputs)\n",
    "    rel_error = np.mean(np.linalg.norm(all_targets - all_outputs, axis=1, ord = 2)/np.linalg.norm(all_targets, axis=1, ord = 2))\n",
    "    test_relative_errors.append(rel_error)\n",
    "    print(f'Epoch {epoch+1}/{num_epochs}, Test relative error: {rel_error}')\n",
    "\n",
    "print(\"Обучение завершено\")\n"
   ]
  },
  {
   "cell_type": "code",
   "execution_count": 24,
   "metadata": {},
   "outputs": [
    {
     "name": "stdout",
     "output_type": "stream",
     "text": [
      "Inputs: [-1.1044984e-01  3.0671200e-03  4.0791716e-04  1.2231755e-04  5.1820927e-05  2.6584363e-05  1.5400881e-05  9.7047578e-06  6.5041472e-06  4.5693801e-06]\n",
      "Targets: [-1.10449843e-01  3.06412484e-03  4.07120446e-04  1.21959194e-04  5.16185028e-05  2.64545561e-05  1.53106412e-05  9.63841649e-06  6.45333375e-06  4.52921950e-06]\n",
      "Outputs: [-1.1066459e-01  1.5206811e-03  4.5387307e-04  4.0671948e-05  2.7479432e-04 -7.3094775e-06  2.5618525e-04 -1.5597974e-05  2.5127089e-04 -1.7918501e-05]\n"
     ]
    }
   ],
   "source": [
    "model.eval()\n",
    "np.set_printoptions(linewidth=np.inf)\n",
    "\n",
    "with torch.no_grad():\n",
    "    for inputs, targets in dataloader_test:\n",
    "        outputs = model(inputs)\n",
    "        print(f'Inputs: {inputs.squeeze(1)[0].cpu().numpy()[:10]}')\n",
    "        print(f'Targets: {targets.squeeze(1)[0].cpu().numpy()[:10]}')\n",
    "        print(f'Outputs: {outputs.squeeze(1)[0].cpu().numpy()[:10]}')\n",
    "        break\n",
    "\n"
   ]
  },
  {
   "cell_type": "code",
   "execution_count": 25,
   "metadata": {},
   "outputs": [
    {
     "data": {
      "text/plain": [
       "<matplotlib.legend.Legend at 0x3902f1ca0>"
      ]
     },
     "execution_count": 25,
     "metadata": {},
     "output_type": "execute_result"
    },
    {
     "data": {
      "image/png": "[encoded data removed]",
      "text/plain": [
       "<Figure size 1500x500 with 2 Axes>"
      ]
     },
     "metadata": {},
     "output_type": "display_data"
    }
   ],
   "source": [
    "# Построение графиков\n",
    "plt.figure(figsize=(15, 5))\n",
    "\n",
    "plt.subplot(1, 3, 1)\n",
    "plt.plot(range(1, num_epochs + 1), train_losses, label='Training Loss', marker='o')\n",
    "plt.plot(range(1, num_epochs + 1), test_losses, label='Test Loss', marker='o')\n",
    "plt.xlabel('Epoch')\n",
    "plt.ylabel('Loss')\n",
    "plt.title('Training and Test Loss')\n",
    "plt.yscale('log')\n",
    "plt.legend()\n",
    "\n",
    "plt.subplot(1, 3, 2)\n",
    "plt.plot(range(1, num_epochs + 1), np.array(test_relative_errors)*100, label='Test Relative Error, %', marker='o')\n",
    "plt.xlabel('Epoch')\n",
    "plt.ylabel('Relative Error')\n",
    "plt.title('Test Relative Error')\n",
    "plt.legend()\n"
   ]
  }
 ],
 "metadata": {
  "kernelspec": {
   "display_name": "sirius_venv",
   "language": "python",
   "name": "python3"
  },
  "language_info": {
   "codemirror_mode": {
    "name": "ipython",
    "version": 3
   },
   "file_extension": ".py",
   "mimetype": "text/x-python",
   "name": "python",
   "nbconvert_exporter": "python",
   "pygments_lexer": "ipython3",
   "version": "3.12.3"
  }
 },
 "nbformat": 4,
 "nbformat_minor": 2
}
